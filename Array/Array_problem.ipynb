{
 "cells": [
  {
   "cell_type": "code",
   "execution_count": 1,
   "id": "687b4196",
   "metadata": {},
   "outputs": [
    {
     "name": "stdout",
     "output_type": "stream",
     "text": [
      "array('i', [5, 4, 3, 2, 1])\n"
     ]
    }
   ],
   "source": [
    "import array\n",
    "a = array.array(\"i\",[1,2,3,4,5])\n",
    "result=array.array(\"i\",reversed(a))\n",
    "print(result)"
   ]
  },
  {
   "cell_type": "code",
   "execution_count": 11,
   "id": "15340e84",
   "metadata": {},
   "outputs": [
    {
     "name": "stdout",
     "output_type": "stream",
     "text": [
      "2 3 4 5 6 1 2 8 5 23 6 2\n",
      "Sorted Array: [1, 2, 3, 4, 5, 6, 8, 23]\n"
     ]
    }
   ],
   "source": [
    "# Question - 2\n",
    "# Turbo Sort\n",
    "# Given a list of numbers, you have to sort them in non decreasing order.\n",
    "def mergerr(N):\n",
    "    if len(N)<=1:\n",
    "        return N\n",
    "    mid = len(N)//2\n",
    "    l=N[:mid]\n",
    "    r=N[mid:]\n",
    "    l=mergerr(l)\n",
    "    r=mergerr(r)\n",
    "    return merg(l,r)\n",
    "def merg(l,r):\n",
    "    new=[]\n",
    "    i,j=0,0\n",
    "    while i<len(l) and j<len(r):\n",
    "        if l[i]<r[j]:\n",
    "            new.append(l[i])\n",
    "            i+=1\n",
    "        else:\n",
    "            new.append(r[j])\n",
    "            j+=1\n",
    "\n",
    "    new.extend(l[i:])\n",
    "    new.extend(r[j:])\n",
    "    return new\n",
    "N = list(map(int,input().split()))\n",
    "N = list(set(N)) \n",
    "new=mergerr(N)\n",
    "print(\"Sorted Array:\",new)\n",
    "    "
   ]
  },
  {
   "cell_type": "code",
   "execution_count": 3,
   "id": "8b852c69",
   "metadata": {},
   "outputs": [],
   "source": [
    "# import numpy as np\n",
    "# a = np.array([1,2,3,4,5,6,4])\n",
    "# print(type(a))\n",
    "# for i in a:\n",
    "#     print(a.reverse())"
   ]
  },
  {
   "cell_type": "code",
   "execution_count": 4,
   "id": "15f25154",
   "metadata": {},
   "outputs": [
    {
     "name": "stdout",
     "output_type": "stream",
     "text": [
      "1\n",
      "2\n",
      "1\n",
      "3\n",
      "1\n",
      "4\n",
      "1\n",
      "5\n",
      "1\n",
      "6\n",
      "1\n",
      "6\n",
      "1\n",
      "6\n",
      "1\n",
      "6\n",
      "1\n",
      "56\n",
      "1\n",
      "546565\n",
      "1\n",
      "546565\n",
      "1\n",
      "546565\n",
      "1\n",
      "546565\n",
      "1\n",
      "546565\n",
      "1\n",
      "546565\n",
      "afte:  None\n"
     ]
    }
   ],
   "source": [
    "import numpy as np\n",
    "    \n",
    "def arr(n):\n",
    "    min = max = n[0]\n",
    "    for i in range(1,len(n)):\n",
    "        if n[i]>max:\n",
    "            max = n[i]\n",
    "        elif n[i]<min:\n",
    "            min=n[i]\n",
    "            \n",
    "        print(min)\n",
    "        print(max)\n",
    "\n",
    "n = [1,2,3,4,5,6,4,5,2,56,546565,6,6,6,22,2]\n",
    "find = arr(n)\n",
    "print(\"afte: \",find)    "
   ]
  },
  {
   "cell_type": "code",
   "execution_count": 5,
   "id": "138bd5fa",
   "metadata": {},
   "outputs": [
    {
     "name": "stdout",
     "output_type": "stream",
     "text": [
      "15\n"
     ]
    }
   ],
   "source": [
    "import numpy as np\n",
    "def sumarray(n):\n",
    "    return sum(n)\n",
    "n = np.array([1,2,3,4,5])\n",
    "a = sumarray(n)\n",
    "print(a)\n",
    "\n"
   ]
  },
  {
   "cell_type": "code",
   "execution_count": 15,
   "id": "8f1ed612",
   "metadata": {},
   "outputs": [
    {
     "name": "stdout",
     "output_type": "stream",
     "text": [
      "[1, 2, 3, 5, 6]\n",
      "maximum number is  6\n",
      "minimum number is  1\n"
     ]
    }
   ],
   "source": [
    "import numpy as np\n",
    "def maxmin(num):\n",
    "    minInt = 10000007\n",
    "    maxInt = -10000007\n",
    "    print(num)\n",
    "    for i in num:\n",
    "        if i < minInt:\n",
    "            minInt = i\n",
    "        if i > maxInt:\n",
    "            maxInt = i\n",
    "    return minInt, maxInt\n",
    "num = [1,2,3,5,6]\n",
    "minnum, maxnum = maxmin(num)\n",
    "print(\"maximum number is \",maxnum)\n",
    "print(\"minimum number is \",minnum)\n",
    "\n",
    "        \n",
    "    "
   ]
  },
  {
   "cell_type": "code",
   "execution_count": 31,
   "id": "f83c0833",
   "metadata": {},
   "outputs": [
    {
     "name": "stdout",
     "output_type": "stream",
     "text": [
      "Your Array's Maximum Number is :-  965\n",
      "Your Array's Minimum Number is :-  1\n"
     ]
    }
   ],
   "source": [
    "def minmax(num):\n",
    "    maxi = -4294967296\n",
    "    mini = 4294967296\n",
    "    for i in num:\n",
    "        \n",
    "        if i < mini:\n",
    "            mini = i\n",
    "        elif i > maxi:\n",
    "            maxi =i\n",
    "    return maxi,mini\n",
    "num = [1,22,56,65,959,595,95,95,959,59,59,59,9,65,95,965,95,95,95,9,596,56,265,6,5,965,6,6,26,1,651,62,6]\n",
    "maxi,mini = minmax(num)\n",
    "print(\"Your Array's Maximum Number is :- \",maxi)\n",
    "print(\"Your Array's Minimum Number is :- \",mini)"
   ]
  },
  {
   "cell_type": "code",
   "execution_count": 20,
   "id": "eecbdf91",
   "metadata": {},
   "outputs": [
    {
     "name": "stdout",
     "output_type": "stream",
     "text": [
      "entre Your value: 5645645645645645645664564646464582458155155245\n",
      "\n",
      "Welcome to Find Indexing value Program!!!\n",
      "-----------------------------------------\n",
      "\n",
      "Entre indexing Value: 25\n",
      "---------------------------------\n",
      "you entred index of output is: 6\n"
     ]
    }
   ],
   "source": [
    "def find_indexing_value(num):\n",
    "    print(\"\\nWelcome to Find Indexing value Program!!!\")\n",
    "    print(\"-----------------------------------------\\n\")\n",
    "    if num:\n",
    "        a = int(input(\"Entre indexing Value: \"))\n",
    "        print(\"---------------------------------\")\n",
    "        if a == []:\n",
    "            print(\"Emty List\")\n",
    "        elif num:\n",
    "            store = num[a]\n",
    "            return store\n",
    "        else:\n",
    "            print(\"Invalid Value\")\n",
    "num = input(\"entre Your value: \")\n",
    "vaue = find_indexing_value(num)\n",
    "print(\"you entred index of output is:\",vaue)\n",
    "        \n",
    "    "
   ]
  },
  {
   "cell_type": "code",
   "execution_count": 1,
   "id": "552f7ec4",
   "metadata": {},
   "outputs": [
    {
     "name": "stdout",
     "output_type": "stream",
     "text": [
      "ENTRE A SIZE OF ARRAY: 5\n",
      "\n",
      "Welcome to Find Indexing value Program!!!\n",
      "-----------------------------------------\n",
      "\n",
      "ENTRE A ELEMENT  0  :  0\n",
      "ENTRE A ELEMENT  1  :  1\n",
      "ENTRE A ELEMENT  2  :  2\n",
      "ENTRE A ELEMENT  3  :  3\n",
      "ENTRE A ELEMENT  4  :  4\n",
      "----------------------------------------------\n",
      "array :  [0, 1, 2, 3, 4]\n",
      "-----------------------------------------------\n",
      "ENTRE YOU FIND VALUE OF INDEX NUMBER: 4\n",
      "----------------------------------------------\n",
      "3\n"
     ]
    }
   ],
   "source": [
    "def find_indexing_value(size):\n",
    "    print(\"\\nWelcome to Find Indexing value Program!!!\")\n",
    "    print(\"-----------------------------------------\\n\")\n",
    "    lis = []\n",
    "    for i in range(0,number):\n",
    "        print(\"ENTRE A ELEMENT \",i,\" : \",end=\" \")\n",
    "        num = int(input())\n",
    "        lis.append(num)\n",
    "    print(\"----------------------------------------------\")\n",
    "    print(\"array : \",lis)\n",
    "    print('-----------------------------------------------')\n",
    "    idx = int(input(\"ENTRE YOU FIND VALUE OF INDEX NUMBER: \"))\n",
    "    print(\"----------------------------------------------\")\n",
    "    for i in range(len(lis)):\n",
    "        if i == idx-1:\n",
    "            print(lis[i])\n",
    "        \n",
    "number = int(input(\"ENTRE A SIZE OF ARRAY: \"))\n",
    "size = number\n",
    "find_indexing_value(size)\n",
    "        \n",
    "    "
   ]
  },
  {
   "cell_type": "code",
   "execution_count": 2,
   "id": "8136d879",
   "metadata": {},
   "outputs": [
    {
     "name": "stdout",
     "output_type": "stream",
     "text": [
      "Entre a element  to find it: 3\n",
      "Entre a size of array you want to create: 2\n",
      "Entre a array value: 3 2\n"
     ]
    },
    {
     "ename": "ValueError",
     "evalue": "invalid literal for int() with base 10: '3 2'",
     "output_type": "error",
     "traceback": [
      "\u001b[0;31m---------------------------------------------------------------------------\u001b[0m",
      "\u001b[0;31mValueError\u001b[0m                                Traceback (most recent call last)",
      "Cell \u001b[0;32mIn[2], line 13\u001b[0m\n\u001b[1;32m     11\u001b[0m key \u001b[38;5;241m=\u001b[39m \u001b[38;5;28mint\u001b[39m(\u001b[38;5;28minput\u001b[39m(\u001b[38;5;124m\"\u001b[39m\u001b[38;5;124mEntre a element  to find it: \u001b[39m\u001b[38;5;124m\"\u001b[39m))\n\u001b[1;32m     12\u001b[0m size \u001b[38;5;241m=\u001b[39m \u001b[38;5;28mint\u001b[39m(\u001b[38;5;28minput\u001b[39m(\u001b[38;5;124m\"\u001b[39m\u001b[38;5;124mEntre a size of array you want to create: \u001b[39m\u001b[38;5;124m\"\u001b[39m))\n\u001b[0;32m---> 13\u001b[0m found\u001b[38;5;241m=\u001b[39m \u001b[43mfind_value\u001b[49m\u001b[43m(\u001b[49m\u001b[43msize\u001b[49m\u001b[43m,\u001b[49m\u001b[43mkey\u001b[49m\u001b[43m)\u001b[49m\n\u001b[1;32m     16\u001b[0m \u001b[38;5;28;01mif\u001b[39;00m (found) :\n\u001b[1;32m     17\u001b[0m     \u001b[38;5;28mprint\u001b[39m(\u001b[38;5;124m\"\u001b[39m\u001b[38;5;124melement are present\u001b[39m\u001b[38;5;124m\"\u001b[39m)\n",
      "Cell \u001b[0;32mIn[2], line 6\u001b[0m, in \u001b[0;36mfind_value\u001b[0;34m(size, key)\u001b[0m\n\u001b[1;32m      4\u001b[0m \u001b[38;5;28;01mdef\u001b[39;00m \u001b[38;5;21mfind_value\u001b[39m(size,key):\n\u001b[1;32m      5\u001b[0m     \u001b[38;5;28;01mfor\u001b[39;00m i \u001b[38;5;129;01min\u001b[39;00m \u001b[38;5;28mrange\u001b[39m(size):\n\u001b[0;32m----> 6\u001b[0m         a \u001b[38;5;241m=\u001b[39m \u001b[38;5;28;43mint\u001b[39;49m\u001b[43m(\u001b[49m\u001b[38;5;28;43minput\u001b[39;49m\u001b[43m(\u001b[49m\u001b[38;5;124;43m\"\u001b[39;49m\u001b[38;5;124;43mEntre a array value: \u001b[39;49m\u001b[38;5;124;43m\"\u001b[39;49m\u001b[43m)\u001b[49m\u001b[43m)\u001b[49m\u001b[38;5;241m.\u001b[39msplit()\n\u001b[1;32m      7\u001b[0m         lists\u001b[38;5;241m.\u001b[39mappend(a)\n\u001b[1;32m      8\u001b[0m         \u001b[38;5;28;01mfor\u001b[39;00m j \u001b[38;5;129;01min\u001b[39;00m i\u001b[38;5;241m<\u001b[39msize:\n",
      "\u001b[0;31mValueError\u001b[0m: invalid literal for int() with base 10: '3 2'"
     ]
    }
   ],
   "source": [
    "# find a value are present or not \n",
    "lists = []\n",
    "\n",
    "def find_value(size,key):\n",
    "    for i in range(size):\n",
    "        a = int(input(\"Entre a array value: \")).split()\n",
    "        lists.append(a)\n",
    "        for j in i<size:\n",
    "            if num[j] == key:\n",
    "                return 1\n",
    "key = int(input(\"Entre a element  to find it: \"))\n",
    "size = int(input(\"Entre a size of array you want to create: \"))\n",
    "found= find_value(size,key)\n",
    "\n",
    "\n",
    "if (found) :\n",
    "    print(\"element are present\")\n",
    "else:\n",
    "    print(\"element are not present\")\n",
    "    \n",
    "\n",
    "    \n",
    "    \n",
    "        \n",
    "        "
   ]
  },
  {
   "cell_type": "code",
   "execution_count": null,
   "id": "2bbf15ec",
   "metadata": {},
   "outputs": [],
   "source": []
  }
 ],
 "metadata": {
  "kernelspec": {
   "display_name": "Python 3 (ipykernel)",
   "language": "python",
   "name": "python3"
  },
  "language_info": {
   "codemirror_mode": {
    "name": "ipython",
    "version": 3
   },
   "file_extension": ".py",
   "mimetype": "text/x-python",
   "name": "python",
   "nbconvert_exporter": "python",
   "pygments_lexer": "ipython3",
   "version": "3.10.6"
  }
 },
 "nbformat": 4,
 "nbformat_minor": 5
}
